{
 "cells": [
  {
   "cell_type": "code",
   "execution_count": 69,
   "metadata": {},
   "outputs": [
    {
     "data": {
      "text/plain": [
       "<function spacy.pipeline.functions.merge_noun_chunks(doc: spacy.tokens.doc.Doc) -> spacy.tokens.doc.Doc>"
      ]
     },
     "execution_count": 69,
     "metadata": {},
     "output_type": "execute_result"
    }
   ],
   "source": [
    "import spacy\n",
    "from spacy.symbols import ORTH, LEMMA, POS\n",
    "nlp = spacy.load('en_core_web_sm')\n",
    "nlp.add_pipe(\"merge_entities\")\n",
    "nlp.add_pipe(\"merge_noun_chunks\")\n"
   ]
  },
  {
   "cell_type": "code",
   "execution_count": 46,
   "metadata": {},
   "outputs": [
    {
     "name": "stdout",
     "output_type": "stream",
     "text": [
      "('Abraham Lincoln', 'February 12, 1809', 'Hodgenville')\n",
      "('Robert Todd Lincoln', '1843', '')\n",
      "('Willie\" Lincoln', 'December 21, 1850', '')\n",
      "(\"The Lincolns' fourth son\", 'April 4, 1853', '')\n"
     ]
    }
   ],
   "source": [
    "doc = nlp(open('../assets/data/raw/AbrahamLincoln.txt').read())\n",
    "\n",
    "def born(sent):\n",
    "    if 'born' not in sent.root.text :\n",
    "        return None\n",
    "\n",
    "    subj = [c for c in sent.root.children if c.dep_ == 'nsubjpass']\n",
    "    places = [e for e in sent.ents if e.label_ == 'GPE' and e.root.head.tag_ =='IN'] \n",
    "    dates = [e for e in sent.ents if e.label_ == 'DATE' and e.root.head.tag_ =='IN']\n",
    "    person = subj[0].text if subj else ''\n",
    "    date = dates[0].text if dates else ''\n",
    "    place = places[0].text if places else ''\n",
    "    if person:\n",
    "        return person, date, place\n",
    "        \n",
    "for sent in doc.sents:\n",
    "    t = born(sent)\n",
    "    if t:\n",
    "        print (t)"
   ]
  },
  {
   "cell_type": "code",
   "execution_count": 89,
   "metadata": {},
   "outputs": [
    {
     "name": "stdout",
     "output_type": "stream",
     "text": [
      "\n",
      "\n",
      "Jobs and Wozniak co-founded Apple in 1976 to sell Wozniak's Apple I personal computer.\n",
      "(founded Apple, 1976, '')\n",
      "Jobs, Wozniak, and Ronald Wayne founded Apple Computer (now called Apple Inc.) in the garage of Jobs's Los Altos home on Crist Drive.\n",
      "(Apple Computer, '', '')\n",
      "Following his resignation from Apple in 1985, Jobs founded NeXT Inc. with $7 million.\n",
      "(NeXT Inc., 1985, '')\n"
     ]
    }
   ],
   "source": [
    "doc = nlp(open('../assets/data/raw/SteveJobs.txt').read())\n",
    "\n",
    "def founded_active(sent):\n",
    "    if 'founded' not in sent.root.text :\n",
    "        return None\n",
    "    \n",
    "    subj = [c for c in sent.root.children if c.dep_ == 'nsubj']\n",
    "    obj = [c for c in sent.root.children if c.dep_ == 'dobj']\n",
    "\n",
    "    dates = [e for e in sent.ents if e.label_ == 'DATE' and e.root.head.tag_ =='IN']\n",
    "    places = [e for e in sent.ents if e.label_ == 'GPE' and e.root.head.tag_ =='IN'] \n",
    "\n",
    "    org = obj[0] if obj else ''\n",
    "    date = dates[0] if dates else ''\n",
    "    place = places[0] if places else ''\n",
    "\n",
    "    if org:\n",
    "        return org, date, place\n",
    "\n",
    "def founded_passive(sent):\n",
    "    if ('founded' not in sent.text.lower()) and ('established' not in sent.text.lower()):\n",
    "        return None\n",
    "    obj = [e for e in sent.ents if e.label_ == 'ORG']# and e.root.head.text == 'founded']\n",
    "\n",
    "    dates = [e for e in sent.ents if e.label_ == 'DATE' and e.root.head.tag_ =='IN']\n",
    "    places = [e for e in sent.ents if e.label_ == 'GPE' and e.root.head.tag_ =='IN'] \n",
    "\n",
    "    org = obj[0] if obj else ''\n",
    "    date = dates[0] if dates else ''\n",
    "    place = places[0] if places else ''\n",
    "\n",
    "    if org and date:\n",
    "        return org, date, place\n",
    "\n",
    "def founded(sent):\n",
    "    t = founded_active(sent)\n",
    "    if not t:\n",
    "        t = founded_passive(sent)\n",
    "    return t\n",
    "for sent in doc.sents:\n",
    "    t = founded(sent)\n",
    "    if t:\n",
    "        print (sent)\n",
    "        print (t)"
   ]
  },
  {
   "cell_type": "code",
   "execution_count": 91,
   "metadata": {
    "scrolled": true
   },
   "outputs": [
    {
     "name": "stdout",
     "output_type": "stream",
     "text": [
      "Founded in 1789, Georgetown University features a mix of Romanesque and Gothic Revival architecture.\n",
      "(Georgetown University, 1789, '')\n",
      "In addition to the District's own Metropolitan Police Department, many federal law enforcement agencies have jurisdiction in the city as well – most visibly the U.S. Park Police, founded in 1791.\n",
      "(the District's own Metropolitan Police Department, 1791, '')\n",
      "The Marine Barracks near Capitol Hill houses the United States Marine Band; founded in 1798, it is the country's oldest professional musical organization.\n",
      "(The Marine Barracks, 1798, '')\n",
      "Founded in 1925, the United States Navy Band has its headquarters at the Washington Navy Yard and performs at official events and public concerts around the city.\n",
      "(the Washington Navy Yard, 1925, '')\n",
      "Founded in 1950, Arena Stage achieved national attention and spurred growth in the city's independent theater movement that now includes organizations such as the Shakespeare Theatre Company, Woolly Mammoth Theatre Company, and the Studio Theatre.\n",
      "(the Shakespeare Theatre Company, 1950, '')\n",
      "The GALA Hispanic Theatre, now housed in the historic Tivoli Theatre in Columbia Heights, was founded in 1976 and is a National Center for the Latino Performing Arts.\n",
      "(The GALA Hispanic Theatre, 1976, Columbia Heights)\n",
      "The Washington Post, founded in 1877, is the oldest and most-read local daily newspaper in Washington.\n",
      "(The Washington Post, 1877, Washington)\n"
     ]
    }
   ],
   "source": [
    "def born_template(sent):\n",
    "    relations = []\n",
    "    t = born(sent)\n",
    "    if t:\n",
    "        return t\n",
    "    \n",
    "    t = founded(sent)\n",
    "    if t:\n",
    "        return t\n",
    "doc = nlp(open('../assets/data/raw/Washington_DC.txt').read())\n",
    "for sent in doc.sents:\n",
    "    t = born_template(sent)\n",
    "    if t:\n",
    "        print (sent)\n",
    "        print (t)"
   ]
  }
 ],
 "metadata": {
  "kernelspec": {
   "display_name": "Python 3",
   "language": "python",
   "name": "python3"
  },
  "language_info": {
   "codemirror_mode": {
    "name": "ipython",
    "version": 3
   },
   "file_extension": ".py",
   "mimetype": "text/x-python",
   "name": "python",
   "nbconvert_exporter": "python",
   "pygments_lexer": "ipython3",
   "version": "3.7.3"
  }
 },
 "nbformat": 4,
 "nbformat_minor": 2
}
